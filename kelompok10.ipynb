{
  "nbformat": 4,
  "nbformat_minor": 0,
  "metadata": {
    "colab": {
      "provenance": []
    },
    "kernelspec": {
      "name": "python3",
      "display_name": "Python 3"
    },
    "language_info": {
      "name": "python"
    }
  },
  "cells": [
    {
      "cell_type": "markdown",
      "source": [
        "### KELOMPOK 10 :\n",
        "1. MUHAMMAD ADE SULISTIANSYAH - 103102400045\n",
        "2. IZAM ROSIAWAN - 103102400049\n",
        "3. NOVENA AURELIA LUISMA - 103102400050\n",
        "4. FEYSHA KAMILA PRACILYA - 103102400054"
      ],
      "metadata": {
        "id": "ynFJmB6yWw-j"
      }
    },
    {
      "cell_type": "markdown",
      "source": [
        "### Mengenali Karakteristik Data"
      ],
      "metadata": {
        "id": "QSpjTq7qjQq8"
      }
    },
    {
      "cell_type": "markdown",
      "source": [
        "Mengenali karakteristik data merupakan langkah awal yang sangat penting sebelum melakukan analisis data lebih lanjut. Proses ini dilakukan untuk memahami sifat dan ciri-ciri data yang dimiliki, seperti jenis data (apakah data tersebut berupa angka atau kategori), skala pengukuran (misalnya data nominal, ordinal, interval, atau rasio), serta bagaimana data tersebut tersebar."
      ],
      "metadata": {
        "id": "74FdBz_0jsGd"
      }
    },
    {
      "cell_type": "code",
      "source": [
        "#Data bertipe integer\n",
        "umur = 19\n",
        "print(\"Umur:\", umur, \"| Tipe data:\", type(umur))\n",
        "\n",
        "# Data bertipe float\n",
        "tinggi = 175.5\n",
        "print(\"Tinggi:\", tinggi, \"| Tipe data:\", type(tinggi))\n",
        "\n",
        "# Data bertipe string\n",
        "nama = \"Izam\"\n",
        "print(\"Nama:\", nama, \"| Tipe data:\", type(nama))\n",
        "\n",
        "# Data bertipe boolean\n",
        "mahasiswa = True\n",
        "print(\"Mahasiswa:\", mahasiswa, \"| Tipe data:\", type(mahasiswa))"
      ],
      "metadata": {
        "colab": {
          "base_uri": "https://localhost:8080/"
        },
        "id": "-mEDs477j_hD",
        "outputId": "62daccc9-122c-4993-f873-23c692b570d9"
      },
      "execution_count": 3,
      "outputs": [
        {
          "output_type": "stream",
          "name": "stdout",
          "text": [
            "Umur: 19 | Tipe data: <class 'int'>\n",
            "Tinggi: 175.5 | Tipe data: <class 'float'>\n",
            "Nama: Izam | Tipe data: <class 'str'>\n",
            "Mahasiswa: True | Tipe data: <class 'bool'>\n"
          ]
        }
      ]
    },
    {
      "cell_type": "markdown",
      "source": [
        "### Tipe Data\n",
        "\n",
        "\n"
      ],
      "metadata": {
        "id": "RvKSNe49XsgB"
      }
    },
    {
      "cell_type": "markdown",
      "source": [
        "Tipe data adalah suatu atribut atau jenis yang menentukan macam nilai apa yang bisa disimpan dalam sebuah variabel atau struktur data di komputer. Dalam konteks data dan pemrograman, tipe data sangat penting karena setiap jenis data memiliki karakteristik dan cara perlakuan yang berbeda. Misalnya, tipe data integer digunakan untuk bilangan bulat, float untuk bilangan desimal, string untuk teks atau karakter, dan boolean untuk nilai benar atau salah (True/False)."
      ],
      "metadata": {
        "id": "tHQK2dLFkhlK"
      }
    },
    {
      "cell_type": "code",
      "source": [
        "# Integer\n",
        "angka = 10\n",
        "print(\"Tipe data angka:\", type(angka))\n",
        "\n",
        "# Float\n",
        "desimal = 3.14\n",
        "print(\"Tipe data desimal:\", type(desimal))\n",
        "\n",
        "# String\n",
        "teks = \"Halo Dunia\"\n",
        "print(\"Tipe data teks:\", type(teks))\n",
        "\n",
        "# Boolean\n",
        "benar_salah = True\n",
        "print(\"Tipe data boolean:\", type(benar_salah))"
      ],
      "metadata": {
        "colab": {
          "base_uri": "https://localhost:8080/"
        },
        "id": "dCb0AA1zkmQj",
        "outputId": "ba93f24e-02dd-4ad8-826c-c93ddf5b452c"
      },
      "execution_count": 1,
      "outputs": [
        {
          "output_type": "stream",
          "name": "stdout",
          "text": [
            "Tipe data angka: <class 'int'>\n",
            "Tipe data desimal: <class 'float'>\n",
            "Tipe data teks: <class 'str'>\n",
            "Tipe data boolean: <class 'bool'>\n"
          ]
        }
      ]
    },
    {
      "cell_type": "markdown",
      "source": [
        "### Membuat Array Dengan Berbagai Teknik"
      ],
      "metadata": {
        "id": "FJSEEtPpkr1h"
      }
    },
    {
      "cell_type": "markdown",
      "source": [
        "Membuat array dengan berbagai teknik berarti kita bisa membentuk kumpulan data (array) dengan cara yang berbeda-beda sesuai kebutuhan. Misalnya, kita bisa membuat array dari daftar (list) biasa yang sudah diisi nilai, seperti daftar angka atau nama. Selain itu, kita juga bisa membuat array yang semua elemennya sama, misalnya semua bernilai nol atau satu. Ada juga teknik membuat array dengan urutan angka tertentu, seperti angka 0 sampai 10, atau dengan jarak tertentu di antara angkanya."
      ],
      "metadata": {
        "id": "QX7VLkZwlPCP"
      }
    },
    {
      "cell_type": "code",
      "source": [
        "# Array dari list biasa\n",
        "angka = [1, 2, 3, 4, 5]\n",
        "print(\"Array dari list biasa:\", angka)\n",
        "\n",
        "# Array dengan nilai yang sama\n",
        "nol = [0, 0, 0, 0, 0]\n",
        "print(\"Array dengan semua elemen nol:\", nol)\n",
        "\n",
        "# Array urutan angka dengan perulangan\n",
        "urutan = []\n",
        "for i in range(1, 6):\n",
        "    urutan.append(i)\n",
        "print(\"Array urutan angka 1 sampai 5:\", urutan)\n",
        "\n",
        "# Array dengan nilai acak sederhana\n",
        "acak = [3, 1, 4, 2, 5]\n",
        "print(\"Array nilai acak sederhana:\", acak)"
      ],
      "metadata": {
        "colab": {
          "base_uri": "https://localhost:8080/"
        },
        "id": "TIzAR9hDlxPy",
        "outputId": "3b818063-b84a-40af-f393-a91102e1486c"
      },
      "execution_count": 4,
      "outputs": [
        {
          "output_type": "stream",
          "name": "stdout",
          "text": [
            "Array dari list biasa: [1, 2, 3, 4, 5]\n",
            "Array dengan semua elemen nol: [0, 0, 0, 0, 0]\n",
            "Array urutan angka 1 sampai 5: [1, 2, 3, 4, 5]\n",
            "Array nilai acak sederhana: [3, 1, 4, 2, 5]\n"
          ]
        }
      ]
    },
    {
      "cell_type": "markdown",
      "source": [
        "### Membuat Matriks"
      ],
      "metadata": {
        "id": "mxiVu87Gl4IN"
      }
    },
    {
      "cell_type": "markdown",
      "source": [
        "Membuat matriks berarti menyusun data dalam bentuk baris dan kolom, seperti tabel. Matriks biasanya digunakan untuk menyimpan data yang terstruktur, misalnya nilai siswa dalam beberapa mata pelajaran, di mana setiap baris mewakili siswa dan setiap kolom mewakili mata pelajaran. Dengan matriks, kita bisa dengan mudah melakukan operasi matematika atau analisis data, seperti penjumlahan, perkalian, atau mencari rata-rata."
      ],
      "metadata": {
        "id": "Yqwry60mmE_I"
      }
    },
    {
      "cell_type": "code",
      "source": [
        "# Matriks adalah list di dalam list\n",
        "matriks = [\n",
        "    [1, 2, 3],\n",
        "    [4, 5, 6]\n",
        "]\n",
        "\n",
        "# Menampilkan matriks\n",
        "print(\"Matriks 2x3:\")\n",
        "for baris in matriks:\n",
        "    print(baris)"
      ],
      "metadata": {
        "colab": {
          "base_uri": "https://localhost:8080/"
        },
        "id": "YPCJvwB4mKgP",
        "outputId": "17c15123-55db-43b7-d4b4-51515c052ad1"
      },
      "execution_count": 5,
      "outputs": [
        {
          "output_type": "stream",
          "name": "stdout",
          "text": [
            "Matriks 2x3:\n",
            "[1, 2, 3]\n",
            "[4, 5, 6]\n"
          ]
        }
      ]
    },
    {
      "cell_type": "markdown",
      "source": [
        "### MEMANIPULASI MATRIKS DAN OPERASI OPERASI MATRIKS"
      ],
      "metadata": {
        "id": "bJB792v4nl_4"
      }
    },
    {
      "cell_type": "markdown",
      "source": [
        "Matriks dapat dimanipulasi dengan berbagai cara, misalnya:\n",
        "\n",
        "* Penjumlahan → menjumlahkan tiap elemen.\n",
        "\n",
        "* Perkalian elemen → mengalikan elemen yang posisinya sama.\n",
        "\n",
        "* Perkalian matriks → perkalian sesuai aturan aljabar linear.\n",
        "\n",
        "* Transpose → membalik baris jadi kolom."
      ],
      "metadata": {
        "id": "R3TtjBP3rpLJ"
      }
    },
    {
      "cell_type": "code",
      "source": [
        "import numpy as np\n",
        "\n",
        "A = np.array([[1, 2], [3, 4]])\n",
        "B = np.array([[5, 6], [7, 8]])\n",
        "\n",
        "print(\"Penjumlahan:\\n\", A + B)\n",
        "print(\"Perkalian Elemen:\\n\", A * B)\n",
        "print(\"Perkalian Matriks:\\n\", np.dot(A, B))\n",
        "print(\"Transpose A:\\n\", A.T)\n"
      ],
      "metadata": {
        "colab": {
          "base_uri": "https://localhost:8080/"
        },
        "id": "NEt2im5poM3v",
        "outputId": "be2abd1d-ecd4-4652-e36c-d21419677992"
      },
      "execution_count": null,
      "outputs": [
        {
          "output_type": "stream",
          "name": "stdout",
          "text": [
            "Penjumlahan:\n",
            " [[ 6  8]\n",
            " [10 12]]\n",
            "Perkalian Elemen:\n",
            " [[ 5 12]\n",
            " [21 32]]\n",
            "Perkalian Matriks:\n",
            " [[19 22]\n",
            " [43 50]]\n",
            "Transpose A:\n",
            " [[1 3]\n",
            " [2 4]]\n"
          ]
        }
      ]
    },
    {
      "cell_type": "markdown",
      "source": [
        "### MEMBUAT ARRAY MULTIDIMENSI"
      ],
      "metadata": {
        "id": "phZfnFfGryFl"
      }
    },
    {
      "cell_type": "markdown",
      "source": [
        "Array tidak hanya 1D (baris) atau 2D (matriks), tapi juga bisa lebih, misalnya 3D. Array 3D bisa dibayangkan sebagai “tumpukan matriks” yang digunakan dalam data kompleks seperti gambar atau data ilmiah."
      ],
      "metadata": {
        "id": "lcvpFKmXr5ID"
      }
    },
    {
      "cell_type": "code",
      "source": [
        "import numpy as np\n",
        "\n",
        "# Membuat array 3 dimensi\n",
        "arr3D = np.array([ [[1, 2], [3, 4]],\n",
        "                   [[5, 6], [7, 8]] ])\n",
        "\n",
        "print(\"Array 3D:\\n\", arr3D)\n"
      ],
      "metadata": {
        "colab": {
          "base_uri": "https://localhost:8080/"
        },
        "id": "qldb-G4rr8ZD",
        "outputId": "0b5d6137-b32b-4902-ae58-438562cbcd20"
      },
      "execution_count": null,
      "outputs": [
        {
          "output_type": "stream",
          "name": "stdout",
          "text": [
            "Array 3D:\n",
            " [[[1 2]\n",
            "  [3 4]]\n",
            "\n",
            " [[5 6]\n",
            "  [7 8]]]\n"
          ]
        }
      ]
    },
    {
      "cell_type": "markdown",
      "source": [
        "### MENGETAHUI INDEX ELEMEN PADA ARRAY"
      ],
      "metadata": {
        "id": "HsL2t_MosFUg"
      }
    },
    {
      "cell_type": "markdown",
      "source": [
        "Index adalah posisi suatu elemen di dalam array. Dengan np.where(), kita bisa mencari index dari nilai tertentu. Misalnya, angka 30 ada di index ke-2."
      ],
      "metadata": {
        "id": "TA4grvDpsKaH"
      }
    },
    {
      "cell_type": "code",
      "source": [
        "import numpy as np\n",
        "\n",
        "arr = np.array([10, 20, 30, 40, 50])\n",
        "\n",
        "# Cari index elemen\n",
        "index = np.where(arr == 30)\n",
        "print(\"Index elemen 30:\", index[0][0])\n"
      ],
      "metadata": {
        "colab": {
          "base_uri": "https://localhost:8080/"
        },
        "id": "4C9JYGEnsE4H",
        "outputId": "8f86df88-7be9-4971-c15b-1d4ddba7e13d"
      },
      "execution_count": null,
      "outputs": [
        {
          "output_type": "stream",
          "name": "stdout",
          "text": [
            "Index elemen 30: 2\n"
          ]
        }
      ]
    },
    {
      "cell_type": "markdown",
      "source": [
        "### MENGIMPLEMENTASIKAN OPERASI LOGIKA MATEMATIKA MENGGUNAKAN BOOLEAN"
      ],
      "metadata": {
        "id": "QHiR1pzycMop"
      }
    },
    {
      "cell_type": "markdown",
      "source": [
        "Boolean adalah tipe data yang memiliki nilai True (benar) atau False (salah). Maksud dari Mengimplementasikan operasi logika matematika menggunakan Boolean itu, artinya memakai nilai True/False dan operator logika (AND, OR, NOT) untuk mengambil keputusan atau untuk melakukan perhitungannya, contohnya seperti kode dibawah, dan hasil untuk cara kerja operator logika (AND, OR, NOT), seperti dijelaskan disamping kodenya."
      ],
      "metadata": {
        "id": "YoT0cdTRzzmG"
      }
    },
    {
      "cell_type": "code",
      "execution_count": null,
      "metadata": {
        "colab": {
          "base_uri": "https://localhost:8080/"
        },
        "id": "5Gc_FfI6WpZz",
        "outputId": "a1a3512d-51c7-419e-ef42-ef73c3ad27dc"
      },
      "outputs": [
        {
          "output_type": "stream",
          "name": "stdout",
          "text": [
            "A = True\n",
            "B = False\n",
            "A AND B = False\n",
            "A OR B  = True\n",
            "NOT A   = False\n",
            "A -> B  = False\n",
            "A ↔ B   = False\n"
          ]
        }
      ],
      "source": [
        "A = (2 > 1)   # True, karena 2 memang lebih besar dari 1\n",
        "B = (5 < 3)   # False, karena 5 tidak lebih kecil dari 3\n",
        "\n",
        "print(\"A =\", A)\n",
        "print(\"B =\", B)\n",
        "print(\"A AND B =\", A and B)     # AND: True kalau A dan B sama-sama True\n",
        "print(\"A OR B  =\", A or B)      # OR: True kalau salah satu True\n",
        "print(\"NOT A   =\", not A)       # NOT: membalik nilai A\n",
        "print(\"A -> B  =\", (not A) or B) # Implikasi: salah hanya kalau A True dan B False\n",
        "print(\"A ↔ B   =\", A == B)      # Ekuivalen: True kalau A dan B sama"
      ]
    },
    {
      "cell_type": "markdown",
      "source": [
        "### MELAKUKAN OPERASI ARITMATIKA"
      ],
      "metadata": {
        "id": "Y4GInDDv0QJM"
      }
    },
    {
      "cell_type": "markdown",
      "source": [
        "Operasi aritmatika adalah perhitungan matematika dasar yang kita pakai sehari-hari, seperti tambah, kurang, kali, bagi, dan seterusnya. Melakukan operasi aritmatika artinya menggunakan simbol matematika untuk menghitung angka.\n",
        "Di pemrograman, kita tinggal pakai operator (+, -, *, /, dll.) agar komputer menghitung otomatis. Contohnya seperti kode dibawah ini:"
      ],
      "metadata": {
        "id": "qW4lgPy_7s0Y"
      }
    },
    {
      "cell_type": "code",
      "source": [
        "# Mendefinisikan Nilainya\n",
        "apel = 7\n",
        "jeruk = 9\n",
        "print(\"Jumlah Apel: \", apel)\n",
        "print(\"Jumlah jeruk: \", jeruk)\n",
        "\n",
        "# Penjumlahan\n",
        "jumlah_buah = apel + jeruk\n",
        "print(\"Jumlah dari apel dan jeruk adalah\", jumlah_buah)\n",
        "\n",
        "# Pengurangan\n",
        "selisih_buah = jeruk - apel\n",
        "print(\"Selisih dari jumlah jeruk dan apel adalah\", selisih_buah)\n",
        "\n",
        "# Perkalian\n",
        "perkalian = apel * jeruk\n",
        "print(\"Nilai apel x jeruk: \", perkalian)\n",
        "\n",
        "# Pembagian\n",
        "pembagian = jeruk/apel\n",
        "print(\"Nilai jeruk dibagi apel: \", pembagian)\n",
        "\n",
        "# Sisa Bagi/Modulus\n",
        "sisa_bagi = jeruk % apel\n",
        "print(\"Sisa bagi dari apel dan jeruk adalah\", sisa_bagi)\n",
        "\n",
        "# Panngkat\n",
        "pangkat = apel ** jeruk\n",
        "print(\"Hasil pangkat dari apel pangkat jeruk adalah\", pangkat)"
      ],
      "metadata": {
        "colab": {
          "base_uri": "https://localhost:8080/"
        },
        "id": "RK3OAnDE0fWC",
        "outputId": "21a5d3a6-b434-465e-d243-1215fb3cb4d1"
      },
      "execution_count": null,
      "outputs": [
        {
          "output_type": "stream",
          "name": "stdout",
          "text": [
            "Jumlah Apel:  7\n",
            "Jumlah jeruk:  9\n",
            "Jumlah dari apel dan jeruk adalah 16\n",
            "Selisih dari jumlah jeruk dan apel adalah 2\n",
            "Nilai apel x jeruk:  63\n",
            "Nilai jeruk dibagi apel:  1.2857142857142858\n",
            "Sisa bagi dari apel dan jeruk adalah 2\n",
            "Hasil pangkat dari apel pangkat jeruk adalah 40353607\n"
          ]
        }
      ]
    },
    {
      "cell_type": "markdown",
      "source": [
        "### ELEMENTWISE FUNCTIONS"
      ],
      "metadata": {
        "id": "6enAxOaJ5ddD"
      }
    },
    {
      "cell_type": "markdown",
      "source": [
        "Anggap kita punya daftar angka (misalnya array atau list dalam python).\n",
        "Elementwise function adalah fungsi yang diterapkan ke setiap elemen di dalam daftar itu, satu per satu, lalu mengembalikan daftar baru dengan hasil yang sama panjang. Intinya Elementwise function adalah fungsi yang bekerja per elemen dari sebuah array/list, lalu mengembalikan array dengan bentuk sama, tanpa perlu kita membuat loop manual. Untuk contoh kodenya seperti dibawah ini:"
      ],
      "metadata": {
        "id": "O0yr9TvS8dLe"
      }
    },
    {
      "cell_type": "code",
      "source": [
        "import numpy as np\n",
        "\n",
        "# buat array\n",
        "a = np.array([3, 6, 9])\n",
        "\n",
        "# mencari nilai akar kuadrat dari setiap element\n",
        "print(np.sqrt(a))\n",
        "\n",
        "# setiap elemen ditambah 10\n",
        "print(a + 10)\n",
        "\n",
        "# setiap elemen pakai sin\n",
        "print(np.sin(a))"
      ],
      "metadata": {
        "colab": {
          "base_uri": "https://localhost:8080/"
        },
        "id": "ArKEuJ9k1GMN",
        "outputId": "0c82c7f9-27e6-4800-c74b-e1af40622ab8"
      },
      "execution_count": null,
      "outputs": [
        {
          "output_type": "stream",
          "name": "stdout",
          "text": [
            "[1.73205081 2.44948974 3.        ]\n",
            "[13 16 19]\n",
            "[ 0.14112001 -0.2794155   0.41211849]\n"
          ]
        }
      ]
    }
  ]
}